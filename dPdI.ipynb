{
 "cells": [
  {
   "cell_type": "markdown",
   "metadata": {},
   "source": [
    "# `dPdI.ipynb`\n",
    "\n",
    "Calculate dPdI from dIdV output, use to calculate NEP from PSD"
   ]
  },
  {
   "cell_type": "code",
   "execution_count": null,
   "metadata": {},
   "outputs": [],
   "source": [
    "# imports\n",
    "import sys\n",
    "import os\n",
    "import pickle\n",
    "import importlib\n",
    "import numpy as np\n",
    "import pandas as pd\n",
    "import matplotlib.pyplot as plt\n",
    "import scipy.special as ss\n",
    "import scipy.optimize as so\n",
    "import scipy.integrate as si\n",
    "import scipy.stats as st\n",
    "\n",
    "\n",
    "# custom modules\n",
    "from picoscopedata import PicoscopeData\n",
    "from utilities import *\n",
    "\n",
    "\n",
    "find_imports()\n",
    "import qetpy as qp\n",
    "import optimal_filter_utils as of\n"
   ]
  },
  {
   "cell_type": "code",
   "execution_count": null,
   "metadata": {},
   "outputs": [],
   "source": [
    "# base location of \"B13_Runs\" folder\n",
    "folder_base_candidates = [\n",
    "    'D:', # on the cryolab2 computer\n",
    "    '/Volumes/B13Cryolab_Share' # connecting to shared drives from Mac\n",
    "]\n",
    "\n",
    "folder_base = find_folder('B13_Runs', *folder_base_candidates)\n",
    "print(folder_base)"
   ]
  },
  {
   "cell_type": "code",
   "execution_count": 19,
   "metadata": {},
   "outputs": [],
   "source": [
    "import warnings\n",
    "warnings.filterwarnings('ignore')\n",
    "warnings.simplefilter('ignore')"
   ]
  },
  {
   "cell_type": "markdown",
   "metadata": {},
   "source": [
    "required data inputs"
   ]
  },
  {
   "cell_type": "code",
   "execution_count": 33,
   "metadata": {},
   "outputs": [],
   "source": [
    "# read in results from IbIs analysis\n",
    "#with open('./ibis_data/local/20241108-0001_results.dat', 'rb') as f:\n",
    "#    ibis, ivfits, tr_fits = pickle.load(f)\n",
    "\n",
    "with open('./didv_data/local/20241108-0002_results.dat', 'rb') as f:\n",
    "    didvfit = pickle.load(f)\n",
    "\n",
    "channels = 'ABCDE'\n",
    "\n",
    "# needed for power spectrum of pulses\n",
    "psd_path = folder_base + '/B13_Runs_LabVIEW/Run94/Sapphire_ChABCD_SWT_weekend/Analysis 13/'\n",
    "\n",
    "\n",
    "# needed for phonon collection efficiency calc\n",
    "\n",
    "# position of peaks in calibration (OF height where peak occurs)\n",
    "peak_positions = {\n",
    "    'A': None,\n",
    "    'B': 6.47901e-8,#1.78448e-7,\n",
    "    'C': 5.42406e-8, #8.97955e-8,\n",
    "    'D': None,\n",
    "    'E': None\n",
    "}\n",
    "\n",
    "peak_energy = 6. # energy of peak"
   ]
  },
  {
   "cell_type": "code",
   "execution_count": null,
   "metadata": {},
   "outputs": [],
   "source": [
    "# calculate NEP from PSD data and write to txt files\n",
    "\n",
    "psd_data_output_dir = folder_base + 'B13_Runs_LabVIEW/Run94/'\n",
    "\n",
    "def read_PSD(filename, nsamples, trace_length):\n",
    "    fs = nsamples/trace_length\n",
    "    psd = np.loadtxt(filename)\n",
    "    fs, _ = qp.utils.fold_spectrum(qp.utils.fft(np.zeros(2*psd.size-2), fs = fs)[0], fs = fs)\n",
    "    return fs, psd\n",
    "\n",
    "fig1, ax1 = plt.subplots(1,1)\n",
    "ax1.set_title('PSDs')\n",
    "\n",
    "fig2, ax2 = plt.subplots(1,1)\n",
    "ax2.set_title('NEP')\n",
    "\n",
    "\n",
    "dpdi = {}\n",
    "\n",
    "for chan in channels:\n",
    "    fs, psd = read_PSD(psd_path + f'PSD/Ch {chan} PSD.txt', nsamples = 1000_000, trace_length = 1)\n",
    "    dpdi[chan], dpdi_err = qp.get_dPdI_with_uncertainties(fs, didvfit[chan][3])\n",
    "\n",
    "    #np.savetxt(psd_data_output_dir + f'Ch{chan}.txt', abs(dpdi[chan]))\n",
    "\n",
    "    ax1.plot(fs, psd, label = f'Ch {chan}')\n",
    "    ax2.plot(fs, 1e15*psd*abs(dpdi[chan]), label = f'Ch {chan}')\n",
    "\n",
    "\n",
    "ax1.grid()\n",
    "ax2.grid()\n",
    "ax1.loglog()\n",
    "ax2.loglog()\n",
    "ax1.set_xlabel('freq (Hz)')\n",
    "ax2.set_xlabel('freq (Hz)')\n",
    "ax1.set_ylabel('A/sqrt(Hz)')\n",
    "ax2.set_ylabel('fW/sqrt(Hz)')\n",
    "ax1.legend()\n",
    "ax2.legend()\n",
    "\n"
   ]
  },
  {
   "cell_type": "code",
   "execution_count": null,
   "metadata": {},
   "outputs": [],
   "source": [
    "# compare to theoretical NEP spectrum from mpyle Ch 3\n",
    "\n",
    "with open('Sp.txt', 'rb') as f:\n",
    "    Sp, fn = pickle.load(f)\n",
    "\n",
    "\n",
    "fig2, ax2 = plt.subplots(1,1)\n",
    "ax2.set_title('NEP')\n",
    "\n",
    "for chan in channels:\n",
    "    fs, psd = read_PSD(psd_path + f'PSD/Ch {chan} PSD.txt', nsamples = 1000_000, trace_length = 1)\n",
    "\n",
    "    ax2.plot(fs, 1e15*psd*abs(dpdi[chan]), label = f'Ch {chan}')\n",
    "\n",
    "ax2.plot(fn, 1e15*np.sqrt(Sp), label = 'theoretical', color = 'k')\n",
    "\n",
    "\n",
    "ax2.grid() \n",
    "ax2.loglog()\n",
    "ax2.set_xlabel('freq (Hz)')\n",
    "ax2.set_ylabel('fW/sqrt(Hz)')\n",
    "ax2.legend()\n",
    "\n"
   ]
  },
  {
   "cell_type": "code",
   "execution_count": null,
   "metadata": {},
   "outputs": [],
   "source": [
    "dpdi['A'].shape, psd.shape"
   ]
  },
  {
   "cell_type": "code",
   "execution_count": 24,
   "metadata": {},
   "outputs": [],
   "source": [
    "# np.savetxt(psd_data_output_dir + f'Ch{chan}.txt', abs(dpdi[chan]))"
   ]
  },
  {
   "cell_type": "code",
   "execution_count": 25,
   "metadata": {},
   "outputs": [],
   "source": [
    "# get pulse templates\n",
    "\n",
    "templates_unnorm = {}\n",
    "templates = {}\n",
    "\n",
    "for c in channels:\n",
    "\n",
    "    templates_unnorm[c] = np.loadtxt(psd_path + f'Templates 2/Ch {c} Template.txt')\n",
    "\n",
    "    templates[c] = templates_unnorm[c]/templates_unnorm[c].max()\n",
    "\n",
    "_, ts_template, ws_template = of.get_idx_tk_wn(templates['A'].size, 1e-3) # templates = 2 ms traces\n",
    "\n",
    "fs_template = ws_template/2/np.pi # frequencies for template frequency space [Hz]"
   ]
  },
  {
   "cell_type": "code",
   "execution_count": null,
   "metadata": {},
   "outputs": [],
   "source": [
    "plt.figure()\n",
    "\n",
    "for c in channels:\n",
    "    plt.plot(ts_template*1e3, templates[c], label = f'Ch {c}')\n",
    "\n",
    "#plt.axis((-0.2, 0.2, 0.5,1.1))\n",
    "plt.title('pulse templates')\n",
    "plt.grid()\n",
    "plt.legend()\n",
    "plt.xlabel('time (ms)')"
   ]
  },
  {
   "cell_type": "code",
   "execution_count": null,
   "metadata": {},
   "outputs": [],
   "source": [
    "plt.figure()\n",
    "\n",
    "for c in channels:\n",
    "    plt.plot(abs(of.fft(templates[c])[:templates[c].size//2]), label = f'Ch {c}')\n",
    "\n",
    "plt.loglog()\n",
    "#plt.axis((-0.2, 0.2, 0.5,1.1))\n",
    "plt.title('pulse templates')\n",
    "plt.grid()"
   ]
  },
  {
   "cell_type": "code",
   "execution_count": 28,
   "metadata": {},
   "outputs": [],
   "source": [
    "# convert templates to frequency domain and convert to power\n",
    "pulse_power = {}\n",
    "\n",
    "template_energy = {} # energy (keV) of template\n",
    "\n",
    "edge_cut = 5\n",
    "\n",
    "for c in channels:\n",
    "\n",
    "    temp_w = of.fft(templates[c])\n",
    "\n",
    "    #dpdi_unfolded = np.hstack((dpdi[c][::-1], dpdi[c]))/2\n",
    "    dpdi_unfolded = np.hstack((abs(dpdi[c]), abs(dpdi[c])[::-1]))/2\n",
    "\n",
    "    pow_w = temp_w*dpdi_unfolded\n",
    "\n",
    "    pulse_power[c] = of.ifft(pow_w)\n",
    "\n",
    "    template_energy[c] = np.trapz(np.real(pulse_power[c])[edge_cut:-edge_cut], ts_template[edge_cut:-edge_cut]) / 1.602e-16\n",
    "    "
   ]
  },
  {
   "cell_type": "code",
   "execution_count": null,
   "metadata": {},
   "outputs": [],
   "source": [
    "plt.figure()\n",
    "\n",
    "for c in channels:\n",
    "    plt.plot(ts_template[edge_cut:-edge_cut]*1e3, np.real(pulse_power[c][edge_cut:-edge_cut]), label = f'Ch {c}')\n",
    "\n",
    "plt.title('pulse power')\n",
    "plt.grid()\n",
    "plt.legend()\n",
    "plt.ylabel('power [W]')\n",
    "plt.xlabel('time (ms)')"
   ]
  },
  {
   "cell_type": "code",
   "execution_count": null,
   "metadata": {},
   "outputs": [],
   "source": [
    "template_energy"
   ]
  },
  {
   "cell_type": "code",
   "execution_count": null,
   "metadata": {},
   "outputs": [],
   "source": [
    "# calculate phonon collection efficiency\n",
    "\n",
    "print('phonon collection efficiencies')\n",
    "for c in channels:\n",
    "    if peak_positions[c]:\n",
    "        unit_energy = 6./peak_positions[c] # energy of pulse with unit height\n",
    "        print(c, ':', f'{100*template_energy[c]/unit_energy:.5g} %')"
   ]
  },
  {
   "cell_type": "code",
   "execution_count": null,
   "metadata": {},
   "outputs": [],
   "source": [
    "# cumulative energy\n",
    "plt.figure()\n",
    "\n",
    "for c in channels:\n",
    "    plt.plot(1e3*ts_template[1:], si.cumulative_trapezoid(np.real(pulse_power[c])/1.6e-16, ts_template), label = f'Ch {c}')\n",
    "\n",
    "plt.title('integral of pulse power')\n",
    "plt.grid()\n",
    "plt.legend()\n",
    "plt.ylabel('energy [keV]')\n",
    "plt.xlabel('time (ms)')"
   ]
  },
  {
   "cell_type": "code",
   "execution_count": null,
   "metadata": {},
   "outputs": [],
   "source": []
  },
  {
   "cell_type": "code",
   "execution_count": null,
   "metadata": {},
   "outputs": [],
   "source": []
  },
  {
   "cell_type": "code",
   "execution_count": null,
   "metadata": {},
   "outputs": [],
   "source": []
  },
  {
   "cell_type": "code",
   "execution_count": null,
   "metadata": {},
   "outputs": [],
   "source": []
  },
  {
   "cell_type": "code",
   "execution_count": null,
   "metadata": {},
   "outputs": [],
   "source": []
  },
  {
   "cell_type": "code",
   "execution_count": null,
   "metadata": {},
   "outputs": [],
   "source": []
  },
  {
   "cell_type": "code",
   "execution_count": null,
   "metadata": {},
   "outputs": [],
   "source": []
  }
 ],
 "metadata": {
  "kernelspec": {
   "display_name": "base",
   "language": "python",
   "name": "python3"
  },
  "language_info": {
   "codemirror_mode": {
    "name": "ipython",
    "version": 3
   },
   "file_extension": ".py",
   "mimetype": "text/x-python",
   "name": "python",
   "nbconvert_exporter": "python",
   "pygments_lexer": "ipython3",
   "version": "3.10.5"
  }
 },
 "nbformat": 4,
 "nbformat_minor": 2
}
