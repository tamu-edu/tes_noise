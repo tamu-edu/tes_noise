{
 "cells": [
  {
   "cell_type": "code",
   "execution_count": 1,
   "metadata": {},
   "outputs": [],
   "source": [
    "import numpy as np\n",
    "import pandas as pd\n",
    "import matplotlib.pyplot as plt\n",
    "from utilities import *"
   ]
  },
  {
   "cell_type": "code",
   "execution_count": 11,
   "metadata": {},
   "outputs": [
    {
     "name": "stdout",
     "output_type": "stream",
     "text": [
      "Rp 0.026361185983827484\n",
      "Rn 0.2553931999810848\n"
     ]
    }
   ],
   "source": [
    "# use to find Rp and Rn\n",
    "c = {'gain': 1} # set driver gain\n",
    "Ib = to_ibias(43e-3, n = 4) # set input signal and number of channels it goes to\n",
    "I_super = to_ADC(0.371, config = c) # set amplitude of superconducting signal\n",
    "I_normal = to_ADC(0.057, config = c) # set amplitude of normal signal\n",
    "\n",
    "print('Rp', get_Rp(Ib, I_super))\n",
    "print('Rn', get_Rn(Ib, I_super, I_normal))"
   ]
  }
 ],
 "metadata": {
  "kernelspec": {
   "display_name": "Python 3",
   "language": "python",
   "name": "python3"
  },
  "language_info": {
   "codemirror_mode": {
    "name": "ipython",
    "version": 3
   },
   "file_extension": ".py",
   "mimetype": "text/x-python",
   "name": "python",
   "nbconvert_exporter": "python",
   "pygments_lexer": "ipython3",
   "version": "3.11.9"
  }
 },
 "nbformat": 4,
 "nbformat_minor": 2
}
