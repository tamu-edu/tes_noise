{
 "cells": [
  {
   "cell_type": "code",
   "execution_count": 62,
   "metadata": {},
   "outputs": [],
   "source": [
    "import numpy as np\n",
    "import pandas as pd\n",
    "from utilities import *\n",
    "import os\n",
    "import glob\n",
    "\n",
    "import matplotlib.pyplot as plt"
   ]
  },
  {
   "cell_type": "markdown",
   "metadata": {},
   "source": [
    "## RpRn"
   ]
  },
  {
   "cell_type": "code",
   "execution_count": 57,
   "metadata": {},
   "outputs": [
    {
     "name": "stdout",
     "output_type": "stream",
     "text": [
      "Rp [ 0.03714286  0.21880597  0.0038806  -0.00024691]\n",
      "Rn [0.10127298 0.08119403 0.15589468 0.13409307]\n"
     ]
    }
   ],
   "source": [
    "# use to find Rp and Rn\n",
    "c = {'gain': 1} # set driver gain\n",
    "Ib = func_to_ibias(20e-3, n = 4) # Vpp displayed in function generator and number of channels it goes to\n",
    "I_super = to_ADC(np.array([0.28, 0.067, 0.67, 0.810])/2, config = c) # set amplitude of superconducting signal\n",
    "I_normal = to_ADC(np.array([101e-3, 50e-3, 89e-3, 104e-3])/2, config = c) # set amplitude of normal signal\n",
    "\n",
    "print('Rp', get_Rp(Ib, I_super))\n",
    "print('Rn', get_Rn(Ib, I_super, I_normal))"
   ]
  },
  {
   "cell_type": "markdown",
   "metadata": {},
   "source": [
    "SC:\n",
    "A: 7.557 Vpp\n",
    "B: 19.67 Vpp\n",
    "C: 27.21 Vpp\n",
    "\n",
    "Normal:\n",
    "A: 3.142 Vpp\n",
    "B: 3.474 Vpp\n",
    "C: 3.68 Vpp\n",
    "\n",
    "Tc:\n",
    "A: 133.6 mK (101/108 mK)\n",
    "B: 79 mK (68.1 mK)\n",
    "C: 129.7 mK (80.384 mK)\n",
    "\n",
    "Rp [ 0.0076162  -0.00939015 -0.01233019]\n",
    "Rn [0.03880507 0.04946375 0.04904096]"
   ]
  },
  {
   "cell_type": "code",
   "execution_count": null,
   "metadata": {},
   "outputs": [],
   "source": []
  },
  {
   "cell_type": "markdown",
   "metadata": {},
   "source": [
    "***gain calibration***\n",
    "\n",
    "measurements taken with 0.5-ohm calibration device (with ~5 cm total of manganin wire) connected from QET bias to return\n",
    "\n",
    "picoscope plugged in directly from breakout box\n",
    "\n",
    "`Vb` is the peak-to-peak amplitude from the function generator (triangle wave)\n",
    "\n",
    "`Vpicos` are the voltage measured with \"amplitude\" measure of picoscope in volts (equivalent to by-eye vertical range of triangle wave response)\n",
    "\n",
    "`gains` are the digital gains set in the `FEBV2Ponly` VI"
   ]
  },
  {
   "cell_type": "code",
   "execution_count": null,
   "metadata": {},
   "outputs": [
    {
     "name": "stdout",
     "output_type": "stream",
     "text": [
      "[0.71142857 0.73573906 0.71142857 0.74190476 0.74190476 0.77238095\n",
      " 0.71142857 0.70562358]\n"
     ]
    }
   ],
   "source": [
    "gains = np.array([1, 1.43, 2, 5, 10, 14.3, 20, 50]) # gain values\n",
    "Vpicos = np.array([12.5, 17.3, 25, 60, 120, 165, 250, 630])*1e-3 # voltage read by picoscope [Vpp]\n",
    "\n",
    "Vb = 20e-3 # Vbias (source from func gen)\n",
    "\n",
    "Ib = func_to_ibias(Vb, n = 1) # bias current [A], one channel\n",
    "Is = np.array([to_ADC(V, config = {'gain': G}) for V, G in zip(Vpicos, gains)]) # QET-line current [A]\n",
    "\n",
    "Rs = get_Rp(Ib, Is) # ohms\n",
    "print(Rs)"
   ]
  },
  {
   "cell_type": "code",
   "execution_count": 63,
   "metadata": {},
   "outputs": [
    {
     "data": {
      "text/plain": [
       "Text(0, 0.5, 'resistance (ohms)')"
      ]
     },
     "execution_count": 63,
     "metadata": {},
     "output_type": "execute_result"
    },
    {
     "data": {
      "image/png": "[encoded data removed]",
      "text/plain": [
       "<Figure size 640x480 with 1 Axes>"
      ]
     },
     "metadata": {},
     "output_type": "display_data"
    }
   ],
   "source": [
    "plt.figure()\n",
    "plt.grid()\n",
    "plt.plot(gains, Rs, 'o')\n",
    "plt.xlabel('gain')\n",
    "plt.ylabel('resistance (ohms)')"
   ]
  },
  {
   "cell_type": "code",
   "execution_count": null,
   "metadata": {},
   "outputs": [],
   "source": []
  }
 ],
 "metadata": {
  "kernelspec": {
   "display_name": "Python 3",
   "language": "python",
   "name": "python3"
  },
  "language_info": {
   "codemirror_mode": {
    "name": "ipython",
    "version": 3
   },
   "file_extension": ".py",
   "mimetype": "text/x-python",
   "name": "python",
   "nbconvert_exporter": "python",
   "pygments_lexer": "ipython3",
   "version": "3.11.9"
  }
 },
 "nbformat": 4,
 "nbformat_minor": 2
}
