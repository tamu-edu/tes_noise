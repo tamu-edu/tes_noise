{
 "cells": [
  {
   "cell_type": "code",
   "execution_count": 2,
   "metadata": {},
   "outputs": [],
   "source": [
    "import numpy as np\n",
    "import pandas as pd\n",
    "from utilities import *\n",
    "import os\n",
    "import glob\n",
    "\n",
    "%matplotlib tk\n",
    "import matplotlib.pyplot as plt"
   ]
  },
  {
   "cell_type": "markdown",
   "metadata": {},
   "source": [
    "## RpRn"
   ]
  },
  {
   "cell_type": "code",
   "execution_count": 7,
   "metadata": {},
   "outputs": [
    {
     "name": "stdout",
     "output_type": "stream",
     "text": [
      "Rp [ 0.03714286  0.21880597  0.0038806  -0.00024691]\n",
      "Rn [0.10127298 0.08119403 0.15589468 0.13409307]\n"
     ]
    }
   ],
   "source": [
    "# use to find Rp and Rn\n",
    "c = {'gain': 1} # set driver gain\n",
    "Ib = func_to_ibias(20e-3, n = 4) # Vpp displayed in function generator and number of channels it goes to\n",
    "I_super = to_ADC(np.array([0.28, 0.067, 0.67, 0.810])/2, config = c) # set amplitude of superconducting signal\n",
    "I_normal = to_ADC(np.array([101e-3, 50e-3, 89e-3, 104e-3])/2, config = c) # set amplitude of normal signal\n",
    "\n",
    "print('Rp', get_Rp(Ib, I_super))\n",
    "print('Rn', get_Rn(Ib, I_super, I_normal))"
   ]
  },
  {
   "cell_type": "markdown",
   "metadata": {},
   "source": [
    "SC:\n",
    "A: 7.557 Vpp\n",
    "B: 19.67 Vpp\n",
    "C: 27.21 Vpp\n",
    "\n",
    "Normal:\n",
    "A: 3.142 Vpp\n",
    "B: 3.474 Vpp\n",
    "C: 3.68 Vpp\n",
    "\n",
    "Tc:\n",
    "A: 133.6 mK (101/108 mK)\n",
    "B: 79 mK (68.1 mK)\n",
    "C: 129.7 mK (80.384 mK)\n",
    "\n",
    "Rp [ 0.0076162  -0.00939015 -0.01233019]\n",
    "Rn [0.03880507 0.04946375 0.04904096]"
   ]
  }
 ],
 "metadata": {
  "kernelspec": {
   "display_name": "Python 3",
   "language": "python",
   "name": "python3"
  },
  "language_info": {
   "codemirror_mode": {
    "name": "ipython",
    "version": 3
   },
   "file_extension": ".py",
   "mimetype": "text/x-python",
   "name": "python",
   "nbconvert_exporter": "python",
   "pygments_lexer": "ipython3",
   "version": "3.11.9"
  }
 },
 "nbformat": 4,
 "nbformat_minor": 2
}
